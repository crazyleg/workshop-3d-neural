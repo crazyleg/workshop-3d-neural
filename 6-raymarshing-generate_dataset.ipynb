{
 "cells": [
  {
   "cell_type": "code",
   "execution_count": 1,
   "metadata": {},
   "outputs": [],
   "source": [
    "import pdb, math\n",
    "import matplotlib.pyplot as plt\n",
    "import numpy as np\n",
    "import torch\n",
    "import pdb\n",
    "plt.rcParams[\"figure.figsize\"] = (12,12)"
   ]
  },
  {
   "cell_type": "code",
   "execution_count": 2,
   "metadata": {},
   "outputs": [],
   "source": [
    "H = 300\n",
    "W = 300\n",
    "\n",
    "ORIGIN = torch.from_numpy(np.array([0,0,-5]))\n",
    "\n",
    "EPSILON = 0.01\n",
    "INNER_STEP = .01\n",
    "\n",
    "class DetectorSquare():\n",
    "    def __init__(self, origin, h=100, w=120, z=0):\n",
    "        self.h, self.w = h, w\n",
    "        self.r = float(self.w) / self.h\n",
    "        self.x1, self.x2, self.y1, self.y2, self.z1, self.z2 = -1, 1, -1. / self.r + .25, 1. / self.r + .25, z, -z\n",
    "        self.xes = np.linspace(self.x1, self.x2, self.w)\n",
    "        self.yes = np.linspace(self.y1, self.y2, self.h)\n",
    "\n",
    "# origin is at -5, getector is at 5 placing objects in the middle        \n",
    "detector = DetectorSquare(ORIGIN, h=H, w=W, z=5)"
   ]
  },
  {
   "cell_type": "code",
   "execution_count": 3,
   "metadata": {},
   "outputs": [],
   "source": [
    "#rays from origin to correcponsing point on the detector place\n",
    "rays = np.stack((detector.xes[:,None].repeat(detector.h,axis=1), \n",
    "                 detector.yes[:,None].repeat(detector.w,axis=1).transpose(), \n",
    "                 torch.zeros((detector.w,detector.h))))\n",
    "rays = torch.from_numpy(rays).float()"
   ]
  },
  {
   "cell_type": "code",
   "execution_count": 4,
   "metadata": {},
   "outputs": [],
   "source": [
    "#unit vectors from origin to detector plane\n",
    "vectors = rays - torch.from_numpy(ORIGIN.numpy()[:,None,None]).float()"
   ]
  },
  {
   "cell_type": "code",
   "execution_count": 5,
   "metadata": {},
   "outputs": [],
   "source": [
    "#starting positions over every vector\n",
    "current_points = ORIGIN.repeat(detector.w,1).view(detector.w,3).repeat(detector.h,1).view(detector.h,detector.w,3).permute(2,1,0).float()"
   ]
  },
  {
   "cell_type": "code",
   "execution_count": 6,
   "metadata": {},
   "outputs": [],
   "source": [
    "#placeholders\n",
    "energy_map = torch.from_numpy(np.zeros((detector.w,detector.h))).float()\n",
    "range_map = torch.from_numpy(np.zeros((detector.w,detector.h))).float()"
   ]
  },
  {
   "cell_type": "code",
   "execution_count": 7,
   "metadata": {},
   "outputs": [],
   "source": [
    "def sphereSDF_torch(points,_): \n",
    "    return torch.sqrt(((points+0.2).pow(2).float()).sum(axis=0)) - torch.tensor(0.5)\n",
    "\n",
    "def norm(vectors): return torch.sqrt((vectors).pow(2).sum(0))\n",
    "\n",
    "def torch_displance_point_along_vector(rays0, vectors, distances):\n",
    "    return rays0 + vectors*distances\n",
    "\n",
    "length = lambda x: (x**2).sum(axis=0)**0.5\n",
    "\n",
    "def rotation_matrix(axis, theta):\n",
    "    \"\"\"\n",
    "    Return the rotation matrix associated with counterclockwise rotation about\n",
    "    the given axis by theta radians.\n",
    "    \"\"\"\n",
    "    axis = np.asarray(axis)\n",
    "    axis = axis / math.sqrt(np.dot(axis, axis))\n",
    "    a = math.cos(theta / 2.0)\n",
    "    b, c, d = -axis * math.sin(theta / 2.0)\n",
    "    aa, bb, cc, dd = a * a, b * b, c * c, d * d\n",
    "    bc, ad, ac, ab, bd, cd = b * c, a * d, a * c, a * b, b * d, c * d\n",
    "    return np.array([[aa + bb - cc - dd, 2 * (bc + ad), 2 * (bd - ac)],\n",
    "                     [2 * (bc - ad), aa + cc - bb - dd, 2 * (cd + ab)],\n",
    "                     [2 * (bd + ac), 2 * (cd - ab), aa + dd - bb - cc]])\n",
    "def boxSDF_torch(points, angle):\n",
    "    angle = rotation_matrix([1,1,1],angle)\n",
    "    points = torch.einsum('iq,ijk->qjk',torch.from_numpy(angle).float(),current_points)\n",
    "    points = points \n",
    "    distance = torch.abs(points)-torch.from_numpy(np.array([0.2,0.1,0.1]))[:,None,None].float()\n",
    "    \n",
    "    first = length(torch.where(distance>0,distance,torch.tensor(0.)))\n",
    "    tmp1 = torch.where(distance[1]>distance[2],distance[1],distance[2])\n",
    "    tmp2 = torch.where(distance[0]>tmp1, distance[0], tmp1)\n",
    "    second = torch.where(tmp2>0,torch.tensor(0.),tmp2)\n",
    "    return (first + second)\n",
    "\n",
    "\n"
   ]
  },
  {
   "cell_type": "code",
   "execution_count": 8,
   "metadata": {},
   "outputs": [],
   "source": [
    "class Scene():\n",
    "    def __init__(self,objects):\n",
    "        self.objects = objects\n",
    "    \n",
    "    def trace(self,p, angle):\n",
    "        angle = rotation_matrix([1,1,1],angle)\n",
    "        p = torch.einsum('iq,ijk->qjk',torch.from_numpy(angle).float(),p)\n",
    "        object_distances = [o.trace(p) for o in self.objects]\n",
    "        return torch.stack(object_distances).min(dim=0)[0]"
   ]
  },
  {
   "cell_type": "code",
   "execution_count": 9,
   "metadata": {},
   "outputs": [],
   "source": [
    "class Sphere():\n",
    "    def __init__(self,position, radius):\n",
    "        self.position = position\n",
    "        self.radius = radius\n",
    "    \n",
    "    def trace(self,points):\n",
    "        return torch.sqrt(((points+self.position).pow(2).float()).sum(axis=0)) - torch.tensor(self.radius)\n",
    "    \n",
    "class Box():\n",
    "    def __init__(self, position, dimensions, angle):\n",
    "        self.position = torch.from_numpy(np.array(position))[:,None,None]\n",
    "        self.dimensions = dimensions\n",
    "        self.angle = angle\n",
    "    \n",
    "    def trace(self,points):\n",
    "        angle = rotation_matrix([1,1,1],self.angle)\n",
    "        \n",
    "        points = torch.einsum('iq,ijk->qjk',torch.from_numpy(angle).float(),points)\n",
    "        points = points \n",
    "        distance = torch.abs(points+self.position).float()-torch.from_numpy(np.array(self.dimensions))[:,None,None].float()\n",
    "\n",
    "        first = length(torch.where(distance>0,distance,torch.tensor(0.)))\n",
    "        tmp1 = torch.where(distance[1]>distance[2],distance[1],distance[2])\n",
    "        tmp2 = torch.where(distance[0]>tmp1, distance[0], tmp1)\n",
    "        second = torch.where(tmp2>0,torch.tensor(0.),tmp2)\n",
    "        \n",
    "        return (first + second)"
   ]
  },
  {
   "cell_type": "code",
   "execution_count": 60,
   "metadata": {},
   "outputs": [],
   "source": [
    "#starting positions over every vector\n",
    "current_points = ORIGIN.repeat(detector.w,1).view(detector.w,3).repeat(detector.h,1).view(detector.h,detector.w,3).permute(2,1,0).float()\n",
    "#placeholders\n",
    "energy_map = torch.from_numpy(np.zeros((detector.w,detector.h))).float()\n",
    "range_map = torch.from_numpy(np.zeros((detector.w,detector.h))).float()\n",
    "\n",
    "INNER_STEP_TORCH = torch.tensor(INNER_STEP)\n",
    "vector_normals = (vectors.float() / norm(vectors.float()))\n",
    "ORIGIN_TORCH = ORIGIN.float()[:,None,None] \n",
    "TORCH_ZERO = torch.tensor(0.)\n",
    "TORCH_ONE = torch.tensor(1.)\n",
    "\n",
    "s = Sphere(torch.from_numpy(np.array([0,-0.5,-5]))[:,None,None],0.2)\n",
    "b1 = Box([0,-0,0.0],[0.1,0.2,0.2],0.3)\n",
    "b2 = Box([0.2,-0.8,0.0],[0.1,0.1,0.2],0.3)\n",
    "b3 = Box([-0.2,0.2,0.3],[0.2,0.1,0.2],0.5)\n",
    "b4 = Box([-0.4,0.5,0.0],[0.1,0.4,0.2],0.44)\n",
    "\n",
    "scene = Scene([s,b1,b2,b3,b4])\n",
    "coords = []\n",
    "SDFs = []\n",
    "# while True:\n",
    "for i in range(50):\n",
    "    min_distance = scene.trace(current_points, 0.5) \n",
    "    for i in range(0,H,3):\n",
    "        for j in range(0,W,3):\n",
    "            if min_distance[i,j]<100:\n",
    "                coords.append(current_points[:,i,j].numpy())\n",
    "                SDFs.append(min_distance[i,j].numpy())\n",
    "    min_distance = torch.where(min_distance>EPSILON, min_distance.float(), INNER_STEP_TORCH)          \n",
    "#     min_distance = torch.where(min_distance>EPSILON, torch.tensor(0.1),torch.tensor(0.1))\n",
    "#     current_points = torch_displance_point_along_vector(ORIGIN_TORCH, vector_normals, range_map.float()+torch.tensor(0.3)) \n",
    "    current_points = torch_displance_point_along_vector(ORIGIN_TORCH, vector_normals, range_map.float()+min_distance.float()) \n",
    "\n",
    "    range_map  += min_distance\n",
    "    energy_map += torch.where(min_distance>EPSILON, TORCH_ZERO, TORCH_ONE)\n",
    "    if min_distance.min()>10: break"
   ]
  },
  {
   "cell_type": "code",
   "execution_count": 61,
   "metadata": {},
   "outputs": [
    {
     "data": {
      "image/png": "[encoded data removed]",
      "text/plain": [
       "<Figure size 432x288 with 1 Axes>"
      ]
     },
     "metadata": {
      "needs_background": "light"
     },
     "output_type": "display_data"
    }
   ],
   "source": [
    "plt.imshow(energy_map[10:-10,10:-10])\n",
    "plt.show()"
   ]
  },
  {
   "cell_type": "code",
   "execution_count": 17,
   "metadata": {},
   "outputs": [],
   "source": [
    "import pickle\n",
    "with open('coords.pickle','wb') as file:\n",
    "    pickle.dump(coords,file)\n",
    "\n",
    "with open('sdfs.pickle','wb') as file:\n",
    "    pickle.dump(SDFs,file)"
   ]
  },
  {
   "cell_type": "code",
   "execution_count": 64,
   "metadata": {},
   "outputs": [
    {
     "data": {
      "text/plain": [
       "204407"
      ]
     },
     "execution_count": 64,
     "metadata": {},
     "output_type": "execute_result"
    }
   ],
   "source": [
    "len(coords)"
   ]
  },
  {
   "cell_type": "code",
   "execution_count": 41,
   "metadata": {},
   "outputs": [
    {
     "data": {
      "text/plain": [
       "array(4.3493032, dtype=float32)"
      ]
     },
     "execution_count": 41,
     "metadata": {},
     "output_type": "execute_result"
    }
   ],
   "source": [
    "max(SDFs)"
   ]
  },
  {
   "cell_type": "code",
   "execution_count": 62,
   "metadata": {},
   "outputs": [],
   "source": [
    "np.save('coords',np.array(coords))"
   ]
  },
  {
   "cell_type": "code",
   "execution_count": 63,
   "metadata": {},
   "outputs": [],
   "source": [
    "np.save('SDF',np.array(SDFs))"
   ]
  },
  {
   "cell_type": "code",
   "execution_count": null,
   "metadata": {},
   "outputs": [],
   "source": []
  }
 ],
 "metadata": {
  "kernelspec": {
   "display_name": "Python 3",
   "language": "python",
   "name": "python3"
  },
  "language_info": {
   "codemirror_mode": {
    "name": "ipython",
    "version": 3
   },
   "file_extension": ".py",
   "mimetype": "text/x-python",
   "name": "python",
   "nbconvert_exporter": "python",
   "pygments_lexer": "ipython3",
   "version": "3.7.4"
  }
 },
 "nbformat": 4,
 "nbformat_minor": 4
}
