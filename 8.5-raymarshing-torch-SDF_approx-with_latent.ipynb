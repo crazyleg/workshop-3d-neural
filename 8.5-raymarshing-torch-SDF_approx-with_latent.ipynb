{
 "cells": [
  {
   "cell_type": "code",
   "execution_count": 4,
   "metadata": {},
   "outputs": [],
   "source": [
    "from __future__ import print_function\n",
    "import pdb, math\n",
    "import matplotlib.pyplot as plt\n",
    "import numpy as np\n",
    "import torch\n",
    "import pdb\n",
    "plt.rcParams[\"figure.figsize\"] = (12,12)\n",
    "\n",
    "import argparse\n",
    "import torch\n",
    "import torch.nn as nn\n",
    "import torch.nn.functional as F\n",
    "import torch.optim as optim\n",
    "from torchvision import datasets, transforms\n"
   ]
  },
  {
   "cell_type": "code",
   "execution_count": 5,
   "metadata": {},
   "outputs": [],
   "source": [
    "class SDF(nn.Module):\n",
    "    def __init__(self):\n",
    "        super(SDF, self).__init__()\n",
    "        self.fc1 = nn.Linear(515, 512)\n",
    "        self.drop = nn.Dropout(0.2)\n",
    "        self.fc2 = nn.Linear(512, 512)\n",
    "        self.fc3 = nn.Linear(512, 512)\n",
    "        self.fc4 = nn.Linear(512, 512)\n",
    "        self.fc5 = nn.Linear(512, 512)     \n",
    "        self.fc6 = nn.Linear(512, 1)\n",
    "        \n",
    "    def forward(self, x):\n",
    "#         pdb.set_trace()\n",
    "        x = F.relu(self.fc1(x))\n",
    "        x = F.relu(self.fc2(x))\n",
    "        x = F.relu(self.fc3(x))\n",
    "        x = F.relu(self.fc4(x))\n",
    "        x = F.relu(self.fc5(x))\n",
    "        x = self.fc6(x)\n",
    "        return x"
   ]
  },
  {
   "cell_type": "code",
   "execution_count": 6,
   "metadata": {},
   "outputs": [],
   "source": [
    "H = 300\n",
    "W = 300\n",
    "\n",
    "ORIGIN = torch.from_numpy(np.array([0,0,-5]))\n",
    "\n",
    "EPSILON = 0.01\n",
    "INNER_STEP = .01\n",
    "\n",
    "class DetectorSquare():\n",
    "    def __init__(self, origin, h=100, w=120, z=0):\n",
    "        self.h, self.w = h, w\n",
    "        self.r = float(self.w) / self.h\n",
    "        self.x1, self.x2, self.y1, self.y2, self.z1, self.z2 = -1, 1, -1. / self.r + .25, 1. / self.r + .25, z, -z\n",
    "        self.xes = np.linspace(self.x1, self.x2, self.w)\n",
    "        self.yes = np.linspace(self.y1, self.y2, self.h)\n",
    "\n",
    "# origin is at -5, getector is at 5 placing objects in the middle        \n",
    "detector = DetectorSquare(ORIGIN, h=H, w=W, z=5)"
   ]
  },
  {
   "cell_type": "code",
   "execution_count": 7,
   "metadata": {},
   "outputs": [],
   "source": [
    "#rays from origin to correcponsing point on the detector place\n",
    "rays = np.stack((detector.xes[:,None].repeat(detector.h,axis=1), \n",
    "                 detector.yes[:,None].repeat(detector.w,axis=1).transpose(), \n",
    "                 torch.zeros((detector.w,detector.h))))\n",
    "rays = torch.from_numpy(rays).float().to('cuda')"
   ]
  },
  {
   "cell_type": "code",
   "execution_count": 8,
   "metadata": {},
   "outputs": [
    {
     "data": {
      "text/plain": [
       "torch.Size([3, 300, 300])"
      ]
     },
     "execution_count": 8,
     "metadata": {},
     "output_type": "execute_result"
    }
   ],
   "source": [
    "rays.shape"
   ]
  },
  {
   "cell_type": "code",
   "execution_count": 9,
   "metadata": {},
   "outputs": [],
   "source": [
    "#unit vectors from origin to detector plane\n",
    "vectors = rays - torch.from_numpy(ORIGIN.numpy()[:,None,None]).float().to('cuda')"
   ]
  },
  {
   "cell_type": "code",
   "execution_count": 10,
   "metadata": {},
   "outputs": [],
   "source": [
    "#starting positions over every vector\n",
    "current_points = ORIGIN.repeat(detector.w,1).view(detector.w,3).repeat(detector.h,1).view(detector.h,detector.w,3).permute(2,1,0).float()"
   ]
  },
  {
   "cell_type": "code",
   "execution_count": 11,
   "metadata": {},
   "outputs": [
    {
     "data": {
      "text/plain": [
       "torch.Size([3, 300, 300])"
      ]
     },
     "execution_count": 11,
     "metadata": {},
     "output_type": "execute_result"
    }
   ],
   "source": [
    "rays.shape"
   ]
  },
  {
   "cell_type": "code",
   "execution_count": 12,
   "metadata": {},
   "outputs": [],
   "source": [
    "#placeholders\n",
    "energy_map = torch.from_numpy(np.zeros((detector.w,detector.h))).float()\n",
    "range_map = torch.from_numpy(np.zeros((detector.w,detector.h))).float()"
   ]
  },
  {
   "cell_type": "code",
   "execution_count": 13,
   "metadata": {},
   "outputs": [],
   "source": [
    "def sphereSDF_torch(points,_): \n",
    "    return torch.sqrt(((points+0.2).pow(2).float()).sum(axis=0)) - torch.tensor(0.5)\n",
    "\n",
    "def norm(vectors): return torch.sqrt((vectors).pow(2).sum(0))\n",
    "\n",
    "def torch_displance_point_along_vector(rays0, vectors, distances):\n",
    "    return rays0 + vectors*distances\n",
    "\n",
    "length = lambda x: (x**2).sum(axis=0)**0.5\n",
    "\n",
    "def rotation_matrix(axis, theta):\n",
    "    \"\"\"\n",
    "    Return the rotation matrix associated with counterclockwise rotation about\n",
    "    the given axis by theta radians.\n",
    "    \"\"\"\n",
    "    axis = np.asarray(axis)\n",
    "    axis = axis / math.sqrt(np.dot(axis, axis))\n",
    "    a = math.cos(theta / 2.0)\n",
    "    b, c, d = -axis * math.sin(theta / 2.0)\n",
    "    aa, bb, cc, dd = a * a, b * b, c * c, d * d\n",
    "    bc, ad, ac, ab, bd, cd = b * c, a * d, a * c, a * b, b * d, c * d\n",
    "    return np.array([[aa + bb - cc - dd, 2 * (bc + ad), 2 * (bd - ac)],\n",
    "                     [2 * (bc - ad), aa + cc - bb - dd, 2 * (cd + ab)],\n",
    "                     [2 * (bd + ac), 2 * (cd - ab), aa + dd - bb - cc]])\n",
    "def boxSDF_torch(points, angle):\n",
    "    angle = rotation_matrix([1,1,1],angle)\n",
    "    points = torch.einsum('iq,ijk->qjk',torch.from_numpy(angle).float(),current_points)\n",
    "    points = points \n",
    "    distance = torch.abs(points)-torch.from_numpy(np.array([0.2,0.1,0.1]))[:,None,None].float()\n",
    "    \n",
    "    first = length(torch.where(distance>0,distance,torch.tensor(0.)))\n",
    "    tmp1 = torch.where(distance[1]>distance[2],distance[1],distance[2])\n",
    "    tmp2 = torch.where(distance[0]>tmp1, distance[0], tmp1)\n",
    "    second = torch.where(tmp2>0,torch.tensor(0.),tmp2)\n",
    "    return (first + second)\n",
    "\n",
    "\n"
   ]
  },
  {
   "cell_type": "code",
   "execution_count": 38,
   "metadata": {},
   "outputs": [],
   "source": [
    "class Scene():\n",
    "    def __init__(self):\n",
    "        self.model = SDF()\n",
    "        self.model.load_state_dict(torch.load('sdf_with_latent.torch'))\n",
    "        self.model = self.model.to('cuda')\n",
    "        self.vector = torch.tensor(np.load('test_vector.npy').reshape(1,512).repeat(90000,0))\n",
    "        self.model.eval()\n",
    "        \n",
    "    def trace(self, points, angle):\n",
    "        with torch.no_grad():\n",
    "            angle = rotation_matrix([1,1,1],angle)\n",
    "            points = torch.einsum('iq,ijk->qjk',torch.from_numpy(angle).float().to('cuda'),points.to('cuda')).to('cuda')\n",
    "            \n",
    "            return self.model(torch.cat([points.permute(1,2,0).view(-1,3), self.vector.to('cuda')], dim=1)).view(H,W)"
   ]
  },
  {
   "cell_type": "code",
   "execution_count": 39,
   "metadata": {},
   "outputs": [],
   "source": [
    "current_points = ORIGIN.repeat(detector.w,1).view(detector.w,3).repeat(detector.h,1).view(detector.h,detector.w,3).permute(2,1,0).float().to('cuda')\n",
    "\n"
   ]
  },
  {
   "cell_type": "code",
   "execution_count": 40,
   "metadata": {},
   "outputs": [
    {
     "data": {
      "text/plain": [
       "tensor([ 0.,  0., -5.], device='cuda:0')"
      ]
     },
     "execution_count": 40,
     "metadata": {},
     "output_type": "execute_result"
    }
   ],
   "source": [
    "current_points[:,50,0]"
   ]
  },
  {
   "cell_type": "code",
   "execution_count": 41,
   "metadata": {},
   "outputs": [
    {
     "name": "stdout",
     "output_type": "stream",
     "text": [
      "tensor(4.1272, device='cuda:0')\n",
      "tensor(0.2551, device='cuda:0')\n",
      "tensor(-0.0224, device='cuda:0')\n",
      "tensor(-0.0267, device='cuda:0')\n",
      "tensor(-0.0311, device='cuda:0')\n",
      "tensor(-0.0353, device='cuda:0')\n",
      "tensor(-0.0388, device='cuda:0')\n",
      "tensor(-0.0421, device='cuda:0')\n",
      "tensor(-0.0454, device='cuda:0')\n",
      "tensor(-0.0487, device='cuda:0')\n"
     ]
    }
   ],
   "source": [
    "#starting positions over every vector\n",
    "current_points = ORIGIN.repeat(detector.w,1).view(detector.w,3).repeat(detector.h,1).view(detector.h,detector.w,3).permute(2,1,0).float().to('cuda')\n",
    "#placeholders\n",
    "\n",
    "energy_map = torch.from_numpy(np.zeros((detector.w,detector.h))).float().to('cuda')\n",
    "range_map = torch.from_numpy(np.zeros((detector.w,detector.h))).float().to('cuda')\n",
    "\n",
    "INNER_STEP_TORCH = torch.tensor(INNER_STEP).to('cuda')\n",
    "vector_normals = (vectors.float() / norm(vectors.float())).to('cuda')\n",
    "ORIGIN_TORCH = ORIGIN.float()[:,None,None] .to('cuda')\n",
    "TORCH_ZERO = torch.tensor(0.).to('cuda')\n",
    "TORCH_ONE = torch.tensor(1.).to('cuda')\n",
    "\n",
    "scene = Scene()\n",
    "# while True:\n",
    "for i in range(10):\n",
    "    min_distance = scene.trace(current_points.to('cuda'), torch.tensor(0.5).to('cuda')) \n",
    "    print(min_distance.min())\n",
    "    min_distance = torch.where(min_distance>EPSILON, min_distance.float(), INNER_STEP_TORCH)\n",
    "#     min_distance = torch.where(min_distance>100, min_distance.float(), torch.tensor(100))\n",
    "    current_points = torch_displance_point_along_vector(ORIGIN_TORCH, vector_normals, range_map.float()+min_distance.float()) \n",
    "\n",
    "    range_map  += min_distance\n",
    "    energy_map += torch.where(min_distance>EPSILON, TORCH_ZERO, TORCH_ONE)\n",
    "    if min_distance.min()>10: break"
   ]
  },
  {
   "cell_type": "code",
   "execution_count": 42,
   "metadata": {},
   "outputs": [
    {
     "data": {
      "image/png": "[encoded data removed]",
      "text/plain": [
       "<Figure size 864x864 with 1 Axes>"
      ]
     },
     "metadata": {
      "needs_background": "light"
     },
     "output_type": "display_data"
    }
   ],
   "source": [
    "\n",
    "plt.imshow(energy_map[10:-10,10:-10].cpu())\n",
    "plt.show()"
   ]
  },
  {
   "cell_type": "code",
   "execution_count": 43,
   "metadata": {},
   "outputs": [],
   "source": [
    "TORCH_ZERO = torch.tensor(0.).to('cuda')\n",
    "TORCH_ONE = torch.tensor(1.).to('cuda')\n",
    "def interact_image(angle):\n",
    "    #unit vectors from origin to detector plane\n",
    "    vectors = rays - torch.from_numpy(ORIGIN.numpy()[:,None,None]).float().to('cuda')\n",
    "    #starting positions over every vector\n",
    "    current_points = ORIGIN.repeat(detector.w,1).view(detector.w,3).repeat(detector.h,1).view(detector.h,detector.w,3).permute(2,1,0).float()\n",
    "    #placeholders\n",
    "    energy_map = torch.from_numpy(np.zeros((detector.w,detector.h))).float().to('cuda')\n",
    "    range_map = torch.from_numpy(np.zeros((detector.w,detector.h))).float().to('cuda')\n",
    "    INNER_STEP_TORCH = torch.tensor(INNER_STEP).to('cuda')\n",
    "    vector_normals = (vectors.float() / norm(vectors.float())).to('cuda')\n",
    "    ORIGIN_TORCH = ORIGIN.float()[:,None,None] .to('cuda')\n",
    "    for i in range(10):\n",
    "        min_distance = scene.trace(current_points, angle) \n",
    "    #     print(min_distance.min())\n",
    "        min_distance = torch.where(min_distance>EPSILON, min_distance.float(), INNER_STEP_TORCH)\n",
    "    #     min_distance = torch.where(min_distance>100, min_distance.float(), torch.tensor(100))\n",
    "        current_points = torch_displance_point_along_vector(ORIGIN_TORCH, vector_normals, range_map.float()+min_distance.float()) \n",
    "\n",
    "        range_map  += min_distance\n",
    "        energy_map += torch.where(min_distance>EPSILON, TORCH_ZERO, TORCH_ONE)\n",
    "        if min_distance.min()>10: break\n",
    "    plt.imshow(energy_map[10:-10,10:-10].cpu().numpy())\n",
    "    plt.show()"
   ]
  },
  {
   "cell_type": "code",
   "execution_count": 44,
   "metadata": {},
   "outputs": [],
   "source": [
    "\n",
    "from __future__ import print_function\n",
    "from ipywidgets import interact, interactive, fixed, interact_manual\n",
    "import ipywidgets as widgets"
   ]
  },
  {
   "cell_type": "code",
   "execution_count": 45,
   "metadata": {},
   "outputs": [
    {
     "data": {
      "application/vnd.jupyter.widget-view+json": {
       "model_id": "4fbdb43ea054445ca9baf9b50bfbd84f",
       "version_major": 2,
       "version_minor": 0
      },
      "text/plain": [
       "interactive(children=(FloatSlider(value=3.0, description='angle', max=6.0), Output()), _dom_classes=('widget-i…"
      ]
     },
     "metadata": {},
     "output_type": "display_data"
    },
    {
     "data": {
      "text/plain": [
       "<function __main__.interact_image(angle)>"
      ]
     },
     "execution_count": 45,
     "metadata": {},
     "output_type": "execute_result"
    }
   ],
   "source": [
    "interact(interact_image, angle=(0.0,6.0))"
   ]
  },
  {
   "cell_type": "code",
   "execution_count": null,
   "metadata": {},
   "outputs": [],
   "source": []
  },
  {
   "cell_type": "code",
   "execution_count": null,
   "metadata": {},
   "outputs": [],
   "source": []
  }
 ],
 "metadata": {
  "kernelspec": {
   "display_name": "Python 3",
   "language": "python",
   "name": "python3"
  },
  "language_info": {
   "codemirror_mode": {
    "name": "ipython",
    "version": 3
   },
   "file_extension": ".py",
   "mimetype": "text/x-python",
   "name": "python",
   "nbconvert_exporter": "python",
   "pygments_lexer": "ipython3",
   "version": "3.7.4"
  }
 },
 "nbformat": 4,
 "nbformat_minor": 4
}
