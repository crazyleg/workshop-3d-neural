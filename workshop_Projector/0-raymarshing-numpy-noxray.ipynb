{
 "cells": [
  {
   "cell_type": "code",
   "execution_count": 1,
   "metadata": {},
   "outputs": [],
   "source": [
    "# what's a raymarshing"
   ]
  },
  {
   "cell_type": "code",
   "execution_count": 1305,
   "metadata": {},
   "outputs": [],
   "source": [
    "import math\n",
    "import numpy as np\n",
    "import matplotlib.pyplot as plt\n",
    "import ipdb\n",
    "plt.rcParams[\"figure.figsize\"] = (6,6)"
   ]
  },
  {
   "cell_type": "code",
   "execution_count": 1306,
   "metadata": {},
   "outputs": [],
   "source": [
    "H = 100\n",
    "W = 100\n",
    "Z = 0\n",
    "\n",
    "K_a = np.array([0.2, 0.2, 0.2])\n",
    "K_d = np.array([0.7, 0.2, 0.2])\n",
    "K_s = np.array([1.0, 1.0, 1.0])\n",
    "shininess = 0.2\n",
    "    \n",
    "\n",
    "class DetectorSquare():\n",
    "    def __init__(self, h=100, w=120, z=0):\n",
    "        self.h, self.w = h, w\n",
    "        self.r = float(self.w) / self.h\n",
    "        self.x1, self.x2, self.y1, self.y2, self.z1, self.z2 = -1, 1, -1. / self.r + .25, 1. / self.r + .25, z, -z\n",
    "        self.xes = np.linspace(self.x1, self.x2, self.w)\n",
    "        self.yes = np.linspace(self.y1, self.y2, self.h)\n",
    "        \n",
    "class Ray():\n",
    "    def __init__(self, location, vector, pixel):\n",
    "        self.range = 0\n",
    "        self.active = True\n",
    "        self.energy = 0\n",
    "        self.location = np.array(location)\n",
    "        self.vector = np.array(vector)\n",
    "        self.pixel = pixel\n",
    "        self.color = [0,0,0]"
   ]
  },
  {
   "cell_type": "code",
   "execution_count": 1307,
   "metadata": {},
   "outputs": [],
   "source": [
    "rays = []\n",
    "origin = np.array([0, 0, 5])\n",
    "detector = DetectorSquare(H,W,-5)\n",
    "\n",
    "#create rays from ORIGIN to pixel at DetectorSquare\n",
    "for i in range(W):\n",
    "    for j in range(H):\n",
    "        rays.append(Ray(location = [detector.xes[i],detector.yes[j],detector.z1],\n",
    "                         vector = [detector.xes[i],detector.yes[j],detector.z1] - origin,\n",
    "                         pixel = [i,j]))"
   ]
  },
  {
   "cell_type": "code",
   "execution_count": 1308,
   "metadata": {},
   "outputs": [],
   "source": [
    "length = lambda x: math.sqrt((x**2).sum())\n",
    "\n",
    "def sphereSDF(p):  return length(p) - 4\n",
    "\n",
    "def displace_point_along_vector(p0,vector,d):\n",
    "    return p0 + vector/np.linalg.norm(vector)*d\n",
    "\n",
    "def normalize(v): return v/np.linalg.norm(np.array(v))\n",
    "\n",
    "def reflect(d,n):\n",
    "    return d - 2*(np.dot(d,n))*normalize(d)"
   ]
  },
  {
   "cell_type": "code",
   "execution_count": 1309,
   "metadata": {},
   "outputs": [],
   "source": [
    "EPSILON=1e-5\n",
    "\n",
    "def estimateNormal(point):\n",
    "    return normalize(np.array([\n",
    "        sphereSDF(np.array([point[0]+EPSILON, point[1], point[2]])-sphereSDF(np.array([point[0]-EPSILON, point[1], point[2]]))),\n",
    "        sphereSDF(np.array([point[0], point[1]+EPSILON, point[2]])-sphereSDF(np.array([point[0], point[1]-EPSILON, point[2]]))),\n",
    "        sphereSDF(np.array([point[0], point[1], point[2]+EPSILON])-sphereSDF(np.array([point[0], point[1], point[2]-EPSILON])))]))\n",
    "    \n",
    "    \n",
    "def phongContribForLight(k_d, k_s, alpha, p, eye, light1Pos,  light1Intensity):\n",
    "    N = estimateNormal(p);\n",
    "    L = normalize(light1Pos - p);\n",
    "    V = normalize(eye - p);\n",
    "\n",
    "    R = normalize(reflect(-L, N));\n",
    "    \n",
    "    dotLN = np.dot(L, N);\n",
    "    dotRV = np.dot(R, V);\n",
    "\n",
    "    if (dotLN < 0.0):\n",
    "        return [0.0, 0.0, 0.0];\n",
    "    \n",
    "    if (dotRV < 0.0):\n",
    "        return light1Intensity * (k_d * dotLN);\n",
    "#     pdb.set_trace()\n",
    "    \n",
    "    return light1Intensity * (k_d * dotLN + k_s * np.power(dotRV, alpha));\n",
    "    \n",
    "def get_phong_color(k_a, k_d, k_s, alpha, p, eye):\n",
    "    ambientLight = np.array([0.5,0.5,0.5])\n",
    "    color = ambientLight * K_a\n",
    "    light1Pos = np.array([103, 5, -6])\n",
    "    light1Intensity = np.array([0., 0.9, 0.2])\n",
    "#     ipdb.set_trace()\n",
    "    color = phongContribForLight(k_d, k_s, alpha, p, eye, light1Pos, light1Intensity)\n",
    "    \n",
    "    \n",
    "#     light2Pos = [7, 1, 3]\n",
    "#     light2Intensity = [0.2, 0., 0.4]\n",
    "    \n",
    "#     color += phongContribForLight(k_d, k_s, alpha, p, eye, light2Pos, light2Intensity)\n",
    "    \n",
    "    \n",
    "    return color\n",
    "    \n",
    "    \n"
   ]
  },
  {
   "cell_type": "code",
   "execution_count": 1310,
   "metadata": {},
   "outputs": [],
   "source": [
    "while all([ray.active for ray in rays]):\n",
    "    for q, ray in enumerate([x for x in rays if x.active]):\n",
    "        save_displace = sphereSDF(ray.location)\n",
    "        if (save_displace > 100): \n",
    "            ray.active = False\n",
    "        if save_displace < 0.001: \n",
    "            ray.energy = 1\n",
    "            ray.active = False\n",
    "            rays[q].color = get_phong_color(K_a, K_d, K_s, shininess, ray.location, origin)\n",
    "        ray.location = displace_point_along_vector(ray.location, ray.vector, -save_displace)\n",
    "        "
   ]
  },
  {
   "cell_type": "code",
   "execution_count": 1311,
   "metadata": {},
   "outputs": [],
   "source": [
    "energy_map = np.zeros((W,H,3))"
   ]
  },
  {
   "cell_type": "code",
   "execution_count": 1312,
   "metadata": {},
   "outputs": [],
   "source": [
    "for ray in rays:\n",
    "    energy_map[ray.pixel[0],ray.pixel[1],:] = ray.color"
   ]
  },
  {
   "cell_type": "code",
   "execution_count": 1313,
   "metadata": {},
   "outputs": [
    {
     "data": {
      "text/plain": [
       "0.6179166771718638"
      ]
     },
     "execution_count": 1313,
     "metadata": {},
     "output_type": "execute_result"
    }
   ],
   "source": [
    "energy_map.max()"
   ]
  },
  {
   "cell_type": "code",
   "execution_count": 1314,
   "metadata": {},
   "outputs": [
    {
     "data": {
      "image/png": "[encoded data removed]",
      "text/plain": [
       "<Figure size 432x432 with 1 Axes>"
      ]
     },
     "metadata": {
      "needs_background": "light"
     },
     "output_type": "display_data"
    }
   ],
   "source": [
    "plt.imshow(energy_map/energy_map.max())\n",
    "plt.show()"
   ]
  },
  {
   "cell_type": "code",
   "execution_count": 1300,
   "metadata": {},
   "outputs": [],
   "source": [
    "def plot(shine=1, ):\n",
    "    rays = []\n",
    "    origin = np.array([0, 0, 5])\n",
    "    detector = DetectorSquare(H,W,-5)\n",
    "    shininess = shine\n",
    "    #create rays from ORIGIN to pixel at DetectorSquare\n",
    "    for i in range(W):\n",
    "        for j in range(H):\n",
    "            rays.append(Ray(location = [detector.xes[i],detector.yes[j],detector.z1],\n",
    "                             vector = [detector.xes[i],detector.yes[j],detector.z1] - origin,\n",
    "                             pixel = [i,j]))\n",
    "    while all([ray.active for ray in rays]):\n",
    "        for q, ray in enumerate([x for x in rays if x.active]):\n",
    "            save_displace = sphereSDF(ray.location)\n",
    "            if (save_displace > 100): \n",
    "                ray.active = False\n",
    "            if save_displace < 0.001: \n",
    "                ray.energy = 1\n",
    "                ray.active = False\n",
    "                rays[q].color = get_phong_color(K_a, K_d, K_s, shininess, ray.location, origin)\n",
    "            ray.location = displace_point_along_vector(ray.location, ray.vector, -save_displace)\n",
    "    energy_map = np.zeros((W,H,3))\n",
    "    for ray in rays:\n",
    "        energy_map[ray.pixel[0],ray.pixel[1],:] = ray.color\n",
    "    \n",
    "    plt.imshow(energy_map/energy_map.max())\n",
    "    plt.show()"
   ]
  },
  {
   "cell_type": "code",
   "execution_count": 1301,
   "metadata": {},
   "outputs": [],
   "source": [
    "# IMPLEMENT ANOTHER SDF HERE if you like"
   ]
  },
  {
   "cell_type": "code",
   "execution_count": 1302,
   "metadata": {},
   "outputs": [
    {
     "data": {
      "image/png": "[encoded data removed]",
      "text/plain": [
       "<Figure size 432x432 with 1 Axes>"
      ]
     },
     "metadata": {
      "needs_background": "light"
     },
     "output_type": "display_data"
    }
   ],
   "source": [
    "plot()"
   ]
  },
  {
   "cell_type": "code",
   "execution_count": 1303,
   "metadata": {},
   "outputs": [],
   "source": [
    "from __future__ import print_function\n",
    "from ipywidgets import interact, interactive, fixed, interact_manual\n",
    "import ipywidgets as widgets"
   ]
  },
  {
   "cell_type": "code",
   "execution_count": 1304,
   "metadata": {},
   "outputs": [
    {
     "data": {
      "application/vnd.jupyter.widget-view+json": {
       "model_id": "b6718abaf0ac43f6ac94802cdd517760",
       "version_major": 2,
       "version_minor": 0
      },
      "text/plain": [
       "interactive(children=(FloatSlider(value=1.0, description='shine', max=1.0), Output()), _dom_classes=('widget-i…"
      ]
     },
     "metadata": {},
     "output_type": "display_data"
    },
    {
     "data": {
      "text/plain": [
       "<function __main__.plot(shine=1)>"
      ]
     },
     "execution_count": 1304,
     "metadata": {},
     "output_type": "execute_result"
    }
   ],
   "source": [
    "interact(plot, shine=(0,1,0.1))"
   ]
  },
  {
   "cell_type": "code",
   "execution_count": null,
   "metadata": {},
   "outputs": [],
   "source": []
  }
 ],
 "metadata": {
  "kernelspec": {
   "display_name": "Python 3",
   "language": "python",
   "name": "python3"
  },
  "language_info": {
   "codemirror_mode": {
    "name": "ipython",
    "version": 3
   },
   "file_extension": ".py",
   "mimetype": "text/x-python",
   "name": "python",
   "nbconvert_exporter": "python",
   "pygments_lexer": "ipython3",
   "version": "3.7.4"
  }
 },
 "nbformat": 4,
 "nbformat_minor": 4
}
