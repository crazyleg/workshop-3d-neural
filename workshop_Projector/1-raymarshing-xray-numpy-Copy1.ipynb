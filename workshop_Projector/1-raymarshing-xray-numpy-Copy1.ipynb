{
 "cells": [
  {
   "cell_type": "code",
   "execution_count": 408,
   "metadata": {},
   "outputs": [],
   "source": [
    "# what's a raymarshing"
   ]
  },
  {
   "cell_type": "code",
   "execution_count": 3,
   "metadata": {},
   "outputs": [],
   "source": [
    "import math\n",
    "import numpy as np\n",
    "import matplotlib.pyplot as plt\n",
    "import pdb\n",
    "plt.rcParams[\"figure.figsize\"] = (6,6)"
   ]
  },
  {
   "cell_type": "code",
   "execution_count": 7,
   "metadata": {},
   "outputs": [],
   "source": [
    "H = 100\n",
    "W = 100\n",
    "Z = 0\n",
    "\n",
    "class DetectorSquare():\n",
    "    def __init__(self, h=100, w=120, z=0):\n",
    "        self.h, self.w = h, w\n",
    "        self.r = float(self.w) / self.h\n",
    "        self.x1, self.x2, self.y1, self.y2, self.z1, self.z2 = -1, 1, -1. / self.r + .25, 1. / self.r + .25, z, -z\n",
    "        self.xes = np.linspace(self.x1, self.x2, self.w)\n",
    "        self.yes = np.linspace(self.y1, self.y2, self.h)\n",
    "        \n",
    "class Ray():\n",
    "    def __init__(self, location, vector, pixel):\n",
    "        self.range = 0\n",
    "        self.active = True\n",
    "        self.energy = 0\n",
    "        self.location = np.array(location)\n",
    "        self.vector = np.array(vector)\n",
    "        self.pixel = pixel"
   ]
  },
  {
   "cell_type": "code",
   "execution_count": 19,
   "metadata": {},
   "outputs": [],
   "source": [
    "rays = []\n",
    "origin = np.array([0, 0, 5])\n",
    "detector = DetectorSquare(H,W,-5)\n",
    "for i in range(W):\n",
    "    for j in range(H):\n",
    "        rays.append(Ray(location = [detector.xes[i],detector.yes[j],detector.z1],\n",
    "                         vector = [detector.xes[i],detector.yes[j],detector.z1] - origin,\n",
    "                         pixel = [i,j]))"
   ]
  },
  {
   "cell_type": "code",
   "execution_count": 20,
   "metadata": {},
   "outputs": [],
   "source": [
    "length = lambda x: math.sqrt((x**2).sum())\n",
    "\n",
    "def sphereSDF(p):  return length(p) - 1.0\n",
    "\n",
    "def displance_point_along_vector(p0,vector,d):\n",
    "    return p0 + vector/np.linalg.norm(vector)*d"
   ]
  },
  {
   "cell_type": "code",
   "execution_count": 21,
   "metadata": {},
   "outputs": [],
   "source": [
    "while all([ray.active for ray in rays]):\n",
    "    for q, ray in enumerate([x for x in rays if x.active]):\n",
    "        \n",
    "        save_displace = sphereSDF(ray.location)\n",
    "        \n",
    "        if (save_displace > 20): ray.active = False\n",
    "        if save_displace < 0.01: \n",
    "            ray.energy += 1\n",
    "            save_displace = 0.01\n",
    "        ray.location = displance_point_along_vector(ray.location, ray.vector, -save_displace)\n",
    "        "
   ]
  },
  {
   "cell_type": "code",
   "execution_count": 22,
   "metadata": {},
   "outputs": [],
   "source": [
    "energy_map = np.zeros((W,H))"
   ]
  },
  {
   "cell_type": "code",
   "execution_count": 23,
   "metadata": {},
   "outputs": [],
   "source": [
    "for ray in rays:\n",
    "    energy_map[ray.pixel[0],ray.pixel[1]]= ray.energy"
   ]
  },
  {
   "cell_type": "code",
   "execution_count": null,
   "metadata": {},
   "outputs": [],
   "source": [
    "# Something went wrong here, but to troubles we will fix it\n",
    "plt.imshow(energy_map)\n",
    "plt.show()"
   ]
  },
  {
   "cell_type": "code",
   "execution_count": 14,
   "metadata": {},
   "outputs": [
    {
     "data": {
      "text/plain": [
       "-16.702087199502355"
      ]
     },
     "execution_count": 14,
     "metadata": {},
     "output_type": "execute_result"
    }
   ],
   "source": [
    "energy_map.max()"
   ]
  },
  {
   "cell_type": "code",
   "execution_count": null,
   "metadata": {},
   "outputs": [],
   "source": []
  },
  {
   "cell_type": "code",
   "execution_count": null,
   "metadata": {},
   "outputs": [],
   "source": []
  }
 ],
 "metadata": {
  "kernelspec": {
   "display_name": "Python 3",
   "language": "python",
   "name": "python3"
  },
  "language_info": {
   "codemirror_mode": {
    "name": "ipython",
    "version": 3
   },
   "file_extension": ".py",
   "mimetype": "text/x-python",
   "name": "python",
   "nbconvert_exporter": "python",
   "pygments_lexer": "ipython3",
   "version": "3.7.4"
  }
 },
 "nbformat": 4,
 "nbformat_minor": 4
}
