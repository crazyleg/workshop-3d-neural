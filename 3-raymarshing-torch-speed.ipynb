{
 "cells": [
  {
   "cell_type": "code",
   "execution_count": 21,
   "metadata": {},
   "outputs": [
    {
     "ename": "SyntaxError",
     "evalue": "invalid syntax (<ipython-input-21-752837ec9658>, line 3)",
     "output_type": "error",
     "traceback": [
      "\u001b[0;36m  File \u001b[0;32m\"<ipython-input-21-752837ec9658>\"\u001b[0;36m, line \u001b[0;32m3\u001b[0m\n\u001b[0;31m    import numpy as np\u001b[0m\n\u001b[0m         ^\u001b[0m\n\u001b[0;31mSyntaxError\u001b[0m\u001b[0;31m:\u001b[0m invalid syntax\n"
     ]
    }
   ],
   "source": [
    "import pdb, math\n",
    "import matplotlib.pyplot as plt\\\n",
    "import numpy as np\n",
    "import torch\n",
    "import pdb\n",
    "plt.rcParams[\"figure.figsize\"] = (12,12)"
   ]
  },
  {
   "cell_type": "code",
   "execution_count": null,
   "metadata": {},
   "outputs": [],
   "source": [
    "H = 300\n",
    "W = 300\n",
    "\n",
    "ORIGIN = torch.from_numpy(np.array([0,0,-5]))\n",
    "\n",
    "EPSILON = 0.01\n",
    "INNER_STEP = .01\n",
    "\n",
    "class DetectorSquare():\n",
    "    def __init__(self, origin, h=100, w=120, z=0):\n",
    "        self.h, self.w = h, w\n",
    "        self.r = float(self.w) / self.h\n",
    "        self.x1, self.x2, self.y1, self.y2, self.z1, self.z2 = -1, 1, -1. / self.r + .25, 1. / self.r + .25, z, -z\n",
    "        self.xes = np.linspace(self.x1, self.x2, self.w)\n",
    "        self.yes = np.linspace(self.y1, self.y2, self.h)\n",
    "\n",
    "# origin is at -5, getector is at 5 placing objects in the middle        \n",
    "detector = DetectorSquare(ORIGIN, h=H, w=W, z=5)"
   ]
  },
  {
   "cell_type": "code",
   "execution_count": 22,
   "metadata": {},
   "outputs": [],
   "source": [
    "#rays from origin to correcponsing point on the detector place\n",
    "rays = np.stack((detector.xes[:,None].repeat(detector.h,axis=1), \n",
    "                 detector.yes[:,None].repeat(detector.w,axis=1).transpose(), \n",
    "                 torch.zeros((detector.w,detector.h))))\n",
    "rays = torch.from_numpy(rays).float()"
   ]
  },
  {
   "cell_type": "code",
   "execution_count": 23,
   "metadata": {},
   "outputs": [],
   "source": [
    "#unit vectors from origin to detector plane\n",
    "vectors = rays - torch.from_numpy(ORIGIN.numpy()[:,None,None]).float()"
   ]
  },
  {
   "cell_type": "code",
   "execution_count": 24,
   "metadata": {},
   "outputs": [],
   "source": [
    "#starting positions over every vector\n",
    "current_points = ORIGIN.repeat(detector.w,1).view(detector.w,3).repeat(detector.h,1).view(detector.h,detector.w,3).permute(2,1,0).float()"
   ]
  },
  {
   "cell_type": "code",
   "execution_count": 25,
   "metadata": {},
   "outputs": [],
   "source": [
    "#placeholders\n",
    "energy_map = torch.from_numpy(np.zeros((detector.w,detector.h))).float()\n",
    "range_map = torch.from_numpy(np.zeros((detector.w,detector.h))).float()"
   ]
  },
  {
   "cell_type": "code",
   "execution_count": 26,
   "metadata": {},
   "outputs": [],
   "source": [
    "def sphereSDF_torch(points,_): \n",
    "    return torch.sqrt(((points+0.2).pow(2).float()).sum(axis=0)) - torch.tensor(0.5)\n",
    "\n",
    "def norm(vectors): return torch.sqrt((vectors).pow(2).sum(0))\n",
    "\n",
    "def torch_displance_point_along_vector(rays0, vectors, distances):\n",
    "    return rays0 + vectors*distances\n",
    "\n",
    "length = lambda x: (x**2).sum(axis=0)**0.5\n",
    "\n",
    "def rotation_matrix(axis, theta):\n",
    "    \"\"\"\n",
    "    Return the rotation matrix associated with counterclockwise rotation about\n",
    "    the given axis by theta radians.\n",
    "    \"\"\"\n",
    "    axis = np.asarray(axis)\n",
    "    axis = axis / math.sqrt(np.dot(axis, axis))\n",
    "    a = math.cos(theta / 2.0)\n",
    "    b, c, d = -axis * math.sin(theta / 2.0)\n",
    "    aa, bb, cc, dd = a * a, b * b, c * c, d * d\n",
    "    bc, ad, ac, ab, bd, cd = b * c, a * d, a * c, a * b, b * d, c * d\n",
    "    return np.array([[aa + bb - cc - dd, 2 * (bc + ad), 2 * (bd - ac)],\n",
    "                     [2 * (bc - ad), aa + cc - bb - dd, 2 * (cd + ab)],\n",
    "                     [2 * (bd + ac), 2 * (cd - ab), aa + dd - bb - cc]])\n",
    "def boxSDF_torch(points, angle):\n",
    "    angle = rotation_matrix([1,1,1],angle)\n",
    "    points = torch.einsum('iq,ijk->qjk',torch.from_numpy(angle).float(),current_points)\n",
    "    points = points \n",
    "    distance = torch.abs(points)-torch.from_numpy(np.array([0.2,0.1,0.1]))[:,None,None].float()\n",
    "    \n",
    "    first = length(torch.where(distance>0,distance,torch.tensor(0.)))\n",
    "    tmp1 = torch.where(distance[1]>distance[2],distance[1],distance[2])\n",
    "    tmp2 = torch.where(distance[0]>tmp1, distance[0], tmp1)\n",
    "    second = torch.where(tmp2>0,torch.tensor(0.),tmp2)\n",
    "    return (first + second)\n",
    "\n"
   ]
  },
  {
   "cell_type": "code",
   "execution_count": 27,
   "metadata": {},
   "outputs": [],
   "source": [
    "INNER_STEP_TORCH = torch.tensor(INNER_STEP)\n",
    "vector_normals = (vectors.float() / norm(vectors.float()))\n",
    "ORIGIN_TORCH = ORIGIN.float()[:,None,None] \n",
    "TORCH_ZERO = torch.tensor(0.)\n",
    "TORCH_ONE = torch.tensor(1.)\n",
    "while True:\n",
    "    min_distance = sphereSDF_torch(current_points,_)\n",
    "    min_distance = torch.where(min_distance>EPSILON, min_distance.float(), INNER_STEP_TORCH)\n",
    "    current_points = torch_displance_point_along_vector(ORIGIN_TORCH, vector_normals, range_map.float()+min_distance.float()) \n",
    "\n",
    "    range_map  += min_distance\n",
    "    energy_map += torch.where(min_distance>EPSILON, TORCH_ZERO, TORCH_ONE)\n",
    "    if min_distance.min()>10: break"
   ]
  },
  {
   "cell_type": "code",
   "execution_count": 28,
   "metadata": {},
   "outputs": [
    {
     "data": {
      "image/png": "[encoded data removed]",
      "text/plain": [
       "<Figure size 432x288 with 1 Axes>"
      ]
     },
     "metadata": {
      "needs_background": "light"
     },
     "output_type": "display_data"
    }
   ],
   "source": [
    "plt.imshow(energy_map[10:-10,10:-10])\n",
    "plt.show()"
   ]
  },
  {
   "cell_type": "code",
   "execution_count": 29,
   "metadata": {},
   "outputs": [],
   "source": [
    "TORCH_ZERO = torch.tensor(0.)\n",
    "TORCH_ONE = torch.tensor(1.)\n",
    "def timeme():\n",
    "    #unit vectors from origin to detector plane\n",
    "    vectors = rays - torch.from_numpy(ORIGIN.numpy()[:,None,None]).float()\n",
    "    #starting positions over every vector\n",
    "    current_points = ORIGIN.repeat(detector.w,1).view(detector.w,3).repeat(detector.h,1).view(detector.h,detector.w,3).permute(2,1,0).float()\n",
    "    #placeholders\n",
    "    energy_map = torch.from_numpy(np.zeros((detector.w,detector.h))).float()\n",
    "    range_map = torch.from_numpy(np.zeros((detector.w,detector.h))).float()\n",
    "    INNER_STEP_TORCH = torch.tensor(INNER_STEP)\n",
    "    vector_normals = (vectors.float() / norm(vectors.float()))\n",
    "    ORIGIN_TORCH = ORIGIN.float()[:,None,None] \n",
    "    \n",
    "    while True:\n",
    "        min_distance = sphereSDF_torch(current_points,_)\n",
    "        min_distance = torch.where(min_distance>EPSILON, min_distance.float(), INNER_STEP_TORCH)\n",
    "        current_points = torch.where(min_distance<10, torch_displance_point_along_vector(ORIGIN_TORCH, vector_normals, range_map.float()+min_distance.float()),current_points)\n",
    "#         current_points = torch_displance_point_along_vector(ORIGIN_TORCH, vector_normals, range_map.float()+min_distance.float()) \n",
    "\n",
    "        range_map  += min_distance\n",
    "        energy_map += torch.where(min_distance>EPSILON, TORCH_ZERO, TORCH_ONE)\n",
    "        if min_distance.min()>10: break"
   ]
  },
  {
   "cell_type": "code",
   "execution_count": 30,
   "metadata": {},
   "outputs": [
    {
     "name": "stdout",
     "output_type": "stream",
     "text": [
      "57.9 ms ± 1.91 ms per loop (mean ± std. dev. of 7 runs, 10 loops each)\n"
     ]
    }
   ],
   "source": [
    "%timeit timeme()"
   ]
  },
  {
   "cell_type": "code",
   "execution_count": null,
   "metadata": {},
   "outputs": [],
   "source": []
  }
 ],
 "metadata": {
  "kernelspec": {
   "display_name": "Python 3",
   "language": "python",
   "name": "python3"
  },
  "language_info": {
   "codemirror_mode": {
    "name": "ipython",
    "version": 3
   },
   "file_extension": ".py",
   "mimetype": "text/x-python",
   "name": "python",
   "nbconvert_exporter": "python",
   "pygments_lexer": "ipython3",
   "version": "3.7.4"
  }
 },
 "nbformat": 4,
 "nbformat_minor": 4
}
